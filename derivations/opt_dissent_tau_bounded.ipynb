{
 "cells": [
  {
   "cell_type": "markdown",
   "id": "0ff0384a-5e6e-4eef-bfdb-9fb93f653282",
   "metadata": {},
   "source": [
    "# Derivations: Optimal Action Dissent when Tolerance is Bounded\n",
    "\n",
    "This notebook contains all derivations and utility comparisons for determining the optimal action dissent when tolerance is bounded.\n",
    "It covers both punishment forms: constant and linear."
   ]
  },
  {
   "cell_type": "markdown",
   "id": "cb1ec37f-8da7-48d0-9fbb-ec61a1628a40",
   "metadata": {},
   "source": [
    "We begin by defining our variables of interest and their domains."
   ]
  },
  {
   "cell_type": "code",
   "execution_count": 1,
   "id": "f65b73fb-85dc-4a9e-a647-b733d9ea7ffd",
   "metadata": {},
   "outputs": [],
   "source": [
    "from sympy import *\n",
    "from sympy.assumptions import global_assumptions\n",
    "\n",
    "d_i, a_i, tau_l, tau_u = symbols('d_i a_i tau_l tau_u', nonnegative=True)\n",
    "beta, s = symbols('beta, s', positive=True)\n",
    "\n",
    "global_assumptions.add(\n",
    "    Q.is_true(d_i <= 1),\n",
    "    Q.is_true(a_i <= d_i),\n",
    "    Q.is_true(tau_u <= 1),\n",
    "    Q.is_true(tau_l <= tau_u)\n",
    ")"
   ]
  },
  {
   "cell_type": "code",
   "execution_count": 2,
   "id": "94982ec2-c13a-49eb-8715-f520164934c2",
   "metadata": {},
   "outputs": [
    {
     "data": {
      "text/plain": [
       "{Q.le(a_i, d_i), Q.le(d_i, 1), Q.le(tau_l, tau_u), Q.le(tau_u, 1)}"
      ]
     },
     "execution_count": 2,
     "metadata": {},
     "output_type": "execute_result"
    }
   ],
   "source": [
    "global_assumptions"
   ]
  },
  {
   "cell_type": "markdown",
   "id": "01c8e739-e2fd-485e-8d4d-2356f85cc1a5",
   "metadata": {},
   "source": [
    "## Constant Punishment\n",
    "\n",
    "We next define the (constant) expected punishment $E[p_i]$ as a piecewise function of the action dissent $a_i$."
   ]
  },
  {
   "cell_type": "code",
   "execution_count": 3,
   "id": "c7fceabd-ec0e-47b5-8229-3e6ac0fbdd56",
   "metadata": {},
   "outputs": [],
   "source": [
    "def cEpi(a_i):\n",
    "    return Piecewise(\n",
    "        (s, a_i > tau_u), \n",
    "        (s*((a_i - tau_l)/(tau_u - tau_l)), ((a_i > tau_l) & (a_i <= tau_u))), \n",
    "        (0, True)\n",
    "    )"
   ]
  },
  {
   "cell_type": "markdown",
   "id": "af55d9e2-38d3-46be-aed9-303cc15ab33e",
   "metadata": {},
   "source": [
    "Finally, we define the expected utility $E[U_i]$ as a function of the action dissent $a_i$."
   ]
  },
  {
   "cell_type": "code",
   "execution_count": 4,
   "id": "8945e7e6-cd51-439f-a1e0-eb3798b57d2a",
   "metadata": {},
   "outputs": [],
   "source": [
    "def cEUi(a_i):\n",
    "    return beta * (1 - d_i + a_i) - cEpi(a_i)"
   ]
  },
  {
   "cell_type": "markdown",
   "id": "1d22ef78-c4ee-40bf-9970-d90ab478160b",
   "metadata": {},
   "source": [
    "### Case 1: $d_i \\leq \\tau_\\ell$\n",
    "\n",
    "In this case, we show that $a_i = d_i$ is better than any smaller $a_i$."
   ]
  },
  {
   "cell_type": "code",
   "execution_count": 16,
   "id": "dc89ae77-acaf-4fae-81fe-8cf845d20614",
   "metadata": {},
   "outputs": [
    {
     "data": {
      "text/latex": [
       "$\\displaystyle \\beta \\left(a_{i} - d_{i} + 1\\right) - \\begin{cases} s & \\text{for}\\: a_{i} > \\tau_{u} \\\\- \\frac{s \\left(a_{i} - \\tau_{l}\\right)}{\\tau_{l} - \\tau_{u}} & \\text{for}\\: a_{i} > \\tau_{l} \\\\0 & \\text{otherwise} \\end{cases} < \\beta - \\begin{cases} s & \\text{for}\\: d_{i} > \\tau_{u} \\\\0 & \\text{otherwise} \\end{cases}$"
      ],
      "text/plain": [
       "beta*(a_i - d_i + 1) - Piecewise((s, a_i > tau_u), (-s*(a_i - tau_l)/(tau_l - tau_u), a_i > tau_l), (0, True)) < beta - Piecewise((s, d_i > tau_u), (0, True))"
      ]
     },
     "execution_count": 16,
     "metadata": {},
     "output_type": "execute_result"
    }
   ],
   "source": [
    "refine(cEUi(a_i) < cEUi(d_i), Q.lt(a_i, d_i) & Q.le(d_i, tau_l))"
   ]
  },
  {
   "cell_type": "markdown",
   "id": "3db753c5-a29e-4bc7-aa44-cca9284ca125",
   "metadata": {},
   "source": [
    "This is exactly the kind of thing that makes me think sympy isn't very useful for this use case yet.\n",
    "But it's worth having a minimal example to refer back to."
   ]
  }
 ],
 "metadata": {
  "kernelspec": {
   "display_name": "Python 3 (ipykernel)",
   "language": "python",
   "name": "python3"
  },
  "language_info": {
   "codemirror_mode": {
    "name": "ipython",
    "version": 3
   },
   "file_extension": ".py",
   "mimetype": "text/x-python",
   "name": "python",
   "nbconvert_exporter": "python",
   "pygments_lexer": "ipython3",
   "version": "3.10.4"
  }
 },
 "nbformat": 4,
 "nbformat_minor": 5
}
